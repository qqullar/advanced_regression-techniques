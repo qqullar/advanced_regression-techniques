{
 "cells": [
  {
   "cell_type": "code",
   "execution_count": 30,
   "id": "interpreted-allah",
   "metadata": {},
   "outputs": [],
   "source": [
    "import numpy as np \n",
    "import pandas as pd\n",
    "import seaborn as sns\n",
    "import matplotlib.pyplot as plt\n",
    "import missingno as msno\n",
    "\n",
    "import statistics\n",
    "\n",
    "import xgboost as xgb\n",
    "\n",
    "from sklearn.preprocessing import LabelEncoder\n",
    "from sklearn.impute import SimpleImputer\n",
    "\n",
    "from sklearn.ensemble import RandomForestRegressor\n",
    "\n",
    "from sklearn.metrics import mean_absolute_error\n",
    "from sklearn.metrics import mean_squared_error\n",
    "\n",
    "from sklearn.model_selection import train_test_split\n",
    "from scipy import stats"
   ]
  },
  {
   "cell_type": "code",
   "execution_count": 31,
   "id": "brave-abuse",
   "metadata": {},
   "outputs": [
    {
     "name": "stdout",
     "output_type": "stream",
     "text": [
      "(1460, 81)\n",
      "(1459, 80)\n"
     ]
    }
   ],
   "source": [
    "train_data = pd.read_csv(\"train.csv\")\n",
    "test_data = pd.read_csv(\"test.csv\")\n",
    "\n",
    "test_id = test_data['Id']\n",
    "target = train_data.SalePrice\n",
    "test_data_len = test_data.shape[0]\n",
    "\n",
    "print(train_data.shape)\n",
    "print(test_data.shape)"
   ]
  },
  {
   "cell_type": "code",
   "execution_count": 32,
   "id": "cardiovascular-mapping",
   "metadata": {},
   "outputs": [],
   "source": [
    "#?train_data.drop"
   ]
  },
  {
   "cell_type": "code",
   "execution_count": 33,
   "id": "proper-delight",
   "metadata": {},
   "outputs": [
    {
     "data": {
      "text/plain": [
       "(2919, 79)"
      ]
     },
     "execution_count": 33,
     "metadata": {},
     "output_type": "execute_result"
    }
   ],
   "source": [
    "all_data = pd.concat([train_data, test_data], axis=\"index\", sort=False)\n",
    "all_data = all_data.drop(['Id', 'SalePrice'], axis=\"columns\")\n",
    "\n",
    "all_data.shape"
   ]
  },
  {
   "cell_type": "code",
   "execution_count": 34,
   "id": "driven-sewing",
   "metadata": {},
   "outputs": [
    {
     "name": "stdout",
     "output_type": "stream",
     "text": [
      "13965\n"
     ]
    }
   ],
   "source": [
    "missing_vals = all_data.isnull().sum().sort_values()\n",
    "n_missing_vals = (all_data.isnull().sum().sort_values()).sum()\n",
    "\n",
    "print(n_missing_vals)"
   ]
  },
  {
   "cell_type": "code",
   "execution_count": 35,
   "id": "academic-willow",
   "metadata": {},
   "outputs": [
    {
     "data": {
      "text/plain": [
       "MSSubClass    0.0\n",
       "Foundation    0.0\n",
       "Heating       0.0\n",
       "CentralAir    0.0\n",
       "1stFlrSF      0.0\n",
       "dtype: float64"
      ]
     },
     "execution_count": 35,
     "metadata": {},
     "output_type": "execute_result"
    }
   ],
   "source": [
    "missing_perc = (all_data.isnull().sum() / all_data.isnull().count()).sort_values()\n",
    "missing_perc.head()"
   ]
  },
  {
   "cell_type": "code",
   "execution_count": 36,
   "id": "stone-differential",
   "metadata": {},
   "outputs": [
    {
     "data": {
      "text/html": [
       "<div>\n",
       "<style scoped>\n",
       "    .dataframe tbody tr th:only-of-type {\n",
       "        vertical-align: middle;\n",
       "    }\n",
       "\n",
       "    .dataframe tbody tr th {\n",
       "        vertical-align: top;\n",
       "    }\n",
       "\n",
       "    .dataframe thead th {\n",
       "        text-align: right;\n",
       "    }\n",
       "</style>\n",
       "<table border=\"1\" class=\"dataframe\">\n",
       "  <thead>\n",
       "    <tr style=\"text-align: right;\">\n",
       "      <th></th>\n",
       "      <th>n</th>\n",
       "      <th>%</th>\n",
       "    </tr>\n",
       "  </thead>\n",
       "  <tbody>\n",
       "    <tr>\n",
       "      <th>FireplaceQu</th>\n",
       "      <td>1420</td>\n",
       "      <td>0.486468</td>\n",
       "    </tr>\n",
       "    <tr>\n",
       "      <th>Fence</th>\n",
       "      <td>2348</td>\n",
       "      <td>0.804385</td>\n",
       "    </tr>\n",
       "    <tr>\n",
       "      <th>Alley</th>\n",
       "      <td>2721</td>\n",
       "      <td>0.932169</td>\n",
       "    </tr>\n",
       "    <tr>\n",
       "      <th>MiscFeature</th>\n",
       "      <td>2814</td>\n",
       "      <td>0.964029</td>\n",
       "    </tr>\n",
       "    <tr>\n",
       "      <th>PoolQC</th>\n",
       "      <td>2909</td>\n",
       "      <td>0.996574</td>\n",
       "    </tr>\n",
       "  </tbody>\n",
       "</table>\n",
       "</div>"
      ],
      "text/plain": [
       "                n         %\n",
       "FireplaceQu  1420  0.486468\n",
       "Fence        2348  0.804385\n",
       "Alley        2721  0.932169\n",
       "MiscFeature  2814  0.964029\n",
       "PoolQC       2909  0.996574"
      ]
     },
     "execution_count": 36,
     "metadata": {},
     "output_type": "execute_result"
    }
   ],
   "source": [
    "missin_data = pd.concat([missing_vals, missing_perc], axis='columns', keys=[\"n\", \"%\"])\n",
    "missin_data.tail()"
   ]
  },
  {
   "cell_type": "code",
   "execution_count": 37,
   "id": "violent-nancy",
   "metadata": {},
   "outputs": [],
   "source": [
    "all_data = all_data.drop(missin_data[missin_data[\"%\"] > 0.05].index, axis=\"columns\")"
   ]
  },
  {
   "cell_type": "code",
   "execution_count": 38,
   "id": "vanilla-hayes",
   "metadata": {},
   "outputs": [
    {
     "name": "stdout",
     "output_type": "stream",
     "text": [
      "<class 'pandas.core.frame.DataFrame'>\n",
      "Int64Index: 2919 entries, 0 to 1458\n",
      "Data columns (total 68 columns):\n",
      " #   Column         Non-Null Count  Dtype  \n",
      "---  ------         --------------  -----  \n",
      " 0   MSSubClass     2919 non-null   int64  \n",
      " 1   MSZoning       2915 non-null   object \n",
      " 2   LotArea        2919 non-null   int64  \n",
      " 3   Street         2919 non-null   object \n",
      " 4   LotShape       2919 non-null   object \n",
      " 5   LandContour    2919 non-null   object \n",
      " 6   Utilities      2917 non-null   object \n",
      " 7   LotConfig      2919 non-null   object \n",
      " 8   LandSlope      2919 non-null   object \n",
      " 9   Neighborhood   2919 non-null   object \n",
      " 10  Condition1     2919 non-null   object \n",
      " 11  Condition2     2919 non-null   object \n",
      " 12  BldgType       2919 non-null   object \n",
      " 13  HouseStyle     2919 non-null   object \n",
      " 14  OverallQual    2919 non-null   int64  \n",
      " 15  OverallCond    2919 non-null   int64  \n",
      " 16  YearBuilt      2919 non-null   int64  \n",
      " 17  YearRemodAdd   2919 non-null   int64  \n",
      " 18  RoofStyle      2919 non-null   object \n",
      " 19  RoofMatl       2919 non-null   object \n",
      " 20  Exterior1st    2918 non-null   object \n",
      " 21  Exterior2nd    2918 non-null   object \n",
      " 22  MasVnrType     2895 non-null   object \n",
      " 23  MasVnrArea     2896 non-null   float64\n",
      " 24  ExterQual      2919 non-null   object \n",
      " 25  ExterCond      2919 non-null   object \n",
      " 26  Foundation     2919 non-null   object \n",
      " 27  BsmtQual       2838 non-null   object \n",
      " 28  BsmtCond       2837 non-null   object \n",
      " 29  BsmtExposure   2837 non-null   object \n",
      " 30  BsmtFinType1   2840 non-null   object \n",
      " 31  BsmtFinSF1     2918 non-null   float64\n",
      " 32  BsmtFinType2   2839 non-null   object \n",
      " 33  BsmtFinSF2     2918 non-null   float64\n",
      " 34  BsmtUnfSF      2918 non-null   float64\n",
      " 35  TotalBsmtSF    2918 non-null   float64\n",
      " 36  Heating        2919 non-null   object \n",
      " 37  HeatingQC      2919 non-null   object \n",
      " 38  CentralAir     2919 non-null   object \n",
      " 39  Electrical     2918 non-null   object \n",
      " 40  1stFlrSF       2919 non-null   int64  \n",
      " 41  2ndFlrSF       2919 non-null   int64  \n",
      " 42  LowQualFinSF   2919 non-null   int64  \n",
      " 43  GrLivArea      2919 non-null   int64  \n",
      " 44  BsmtFullBath   2917 non-null   float64\n",
      " 45  BsmtHalfBath   2917 non-null   float64\n",
      " 46  FullBath       2919 non-null   int64  \n",
      " 47  HalfBath       2919 non-null   int64  \n",
      " 48  BedroomAbvGr   2919 non-null   int64  \n",
      " 49  KitchenAbvGr   2919 non-null   int64  \n",
      " 50  KitchenQual    2918 non-null   object \n",
      " 51  TotRmsAbvGrd   2919 non-null   int64  \n",
      " 52  Functional     2917 non-null   object \n",
      " 53  Fireplaces     2919 non-null   int64  \n",
      " 54  GarageCars     2918 non-null   float64\n",
      " 55  GarageArea     2918 non-null   float64\n",
      " 56  PavedDrive     2919 non-null   object \n",
      " 57  WoodDeckSF     2919 non-null   int64  \n",
      " 58  OpenPorchSF    2919 non-null   int64  \n",
      " 59  EnclosedPorch  2919 non-null   int64  \n",
      " 60  3SsnPorch      2919 non-null   int64  \n",
      " 61  ScreenPorch    2919 non-null   int64  \n",
      " 62  PoolArea       2919 non-null   int64  \n",
      " 63  MiscVal        2919 non-null   int64  \n",
      " 64  MoSold         2919 non-null   int64  \n",
      " 65  YrSold         2919 non-null   int64  \n",
      " 66  SaleType       2918 non-null   object \n",
      " 67  SaleCondition  2919 non-null   object \n",
      "dtypes: float64(9), int64(25), object(34)\n",
      "memory usage: 1.5+ MB\n"
     ]
    }
   ],
   "source": [
    "all_data.info()"
   ]
  },
  {
   "cell_type": "code",
   "execution_count": 39,
   "id": "federal-feelings",
   "metadata": {},
   "outputs": [
    {
     "data": {
      "text/plain": [
       "<AxesSubplot:>"
      ]
     },
     "execution_count": 39,
     "metadata": {},
     "output_type": "execute_result"
    },
    {
     "data": {
      "image/png": "[encoded data removed]",
      "text/plain": [
       "<Figure size 1800x720 with 2 Axes>"
      ]
     },
     "metadata": {
      "needs_background": "light"
     },
     "output_type": "display_data"
    }
   ],
   "source": [
    "msno.matrix(all_data.sample(1000))"
   ]
  },
  {
   "cell_type": "code",
   "execution_count": 40,
   "id": "pregnant-affiliation",
   "metadata": {},
   "outputs": [
    {
     "data": {
      "text/plain": [
       "array([dtype('int64'), dtype('float64'), dtype('O')], dtype=object)"
      ]
     },
     "execution_count": 40,
     "metadata": {},
     "output_type": "execute_result"
    }
   ],
   "source": [
    "np.unique(all_data.dtypes)"
   ]
  },
  {
   "cell_type": "code",
   "execution_count": 41,
   "id": "rental-cincinnati",
   "metadata": {},
   "outputs": [],
   "source": [
    "def segment_features_colms(dataset):\n",
    "    cat_feat = list(filter(lambda x: dataset[x].dtype == \"O\", dataset.columns))\n",
    "    num_feat = dataset.drop(cat_feat, axis=\"columns\").columns\n",
    "    return list(num_feat), list(cat_feat)"
   ]
  },
  {
   "cell_type": "code",
   "execution_count": 42,
   "id": "nutritional-chicago",
   "metadata": {},
   "outputs": [],
   "source": [
    "num_cols, cat_cols = segment_features_colms(all_data)\n",
    "le = LabelEncoder()\n",
    "\n",
    "all_data[cat_cols] = all_data[cat_cols].apply(lambda col: le.fit_transform(col.astype(str)), axis=0, result_type='expand')"
   ]
  },
  {
   "cell_type": "code",
   "execution_count": 43,
   "id": "center-doctor",
   "metadata": {},
   "outputs": [],
   "source": [
    "for col in cat_cols:\n",
    "    all_data[col] = le.fit_transform(all_data[col])"
   ]
  },
  {
   "cell_type": "code",
   "execution_count": 44,
   "id": "prescribed-survival",
   "metadata": {},
   "outputs": [
    {
     "data": {
      "text/plain": [
       "array([dtype('int64'), dtype('float64')], dtype=object)"
      ]
     },
     "execution_count": 44,
     "metadata": {},
     "output_type": "execute_result"
    }
   ],
   "source": [
    "np.unique(all_data.dtypes)"
   ]
  },
  {
   "cell_type": "code",
   "execution_count": 45,
   "id": "precise-dance",
   "metadata": {},
   "outputs": [],
   "source": [
    "#all_data[cat_cols].info()  # categorical cols are full"
   ]
  },
  {
   "cell_type": "code",
   "execution_count": 46,
   "id": "incomplete-rider",
   "metadata": {},
   "outputs": [
    {
     "name": "stdout",
     "output_type": "stream",
     "text": [
      "<class 'pandas.core.frame.DataFrame'>\n",
      "Int64Index: 2919 entries, 0 to 1458\n",
      "Data columns (total 34 columns):\n",
      " #   Column         Non-Null Count  Dtype  \n",
      "---  ------         --------------  -----  \n",
      " 0   MSSubClass     2919 non-null   int64  \n",
      " 1   LotArea        2919 non-null   int64  \n",
      " 2   OverallQual    2919 non-null   int64  \n",
      " 3   OverallCond    2919 non-null   int64  \n",
      " 4   YearBuilt      2919 non-null   int64  \n",
      " 5   YearRemodAdd   2919 non-null   int64  \n",
      " 6   MasVnrArea     2896 non-null   float64\n",
      " 7   BsmtFinSF1     2918 non-null   float64\n",
      " 8   BsmtFinSF2     2918 non-null   float64\n",
      " 9   BsmtUnfSF      2918 non-null   float64\n",
      " 10  TotalBsmtSF    2918 non-null   float64\n",
      " 11  1stFlrSF       2919 non-null   int64  \n",
      " 12  2ndFlrSF       2919 non-null   int64  \n",
      " 13  LowQualFinSF   2919 non-null   int64  \n",
      " 14  GrLivArea      2919 non-null   int64  \n",
      " 15  BsmtFullBath   2917 non-null   float64\n",
      " 16  BsmtHalfBath   2917 non-null   float64\n",
      " 17  FullBath       2919 non-null   int64  \n",
      " 18  HalfBath       2919 non-null   int64  \n",
      " 19  BedroomAbvGr   2919 non-null   int64  \n",
      " 20  KitchenAbvGr   2919 non-null   int64  \n",
      " 21  TotRmsAbvGrd   2919 non-null   int64  \n",
      " 22  Fireplaces     2919 non-null   int64  \n",
      " 23  GarageCars     2918 non-null   float64\n",
      " 24  GarageArea     2918 non-null   float64\n",
      " 25  WoodDeckSF     2919 non-null   int64  \n",
      " 26  OpenPorchSF    2919 non-null   int64  \n",
      " 27  EnclosedPorch  2919 non-null   int64  \n",
      " 28  3SsnPorch      2919 non-null   int64  \n",
      " 29  ScreenPorch    2919 non-null   int64  \n",
      " 30  PoolArea       2919 non-null   int64  \n",
      " 31  MiscVal        2919 non-null   int64  \n",
      " 32  MoSold         2919 non-null   int64  \n",
      " 33  YrSold         2919 non-null   int64  \n",
      "dtypes: float64(9), int64(25)\n",
      "memory usage: 798.2 KB\n"
     ]
    }
   ],
   "source": [
    "all_data[num_cols].info()"
   ]
  },
  {
   "cell_type": "code",
   "execution_count": 47,
   "id": "frozen-presence",
   "metadata": {},
   "outputs": [],
   "source": [
    "imputer = SimpleImputer(strategy=\"median\")\n",
    "\n",
    "cols = all_data.columns\n",
    "all_data = pd.DataFrame(imputer.fit_transform(all_data))\n",
    "\n",
    "all_data.columns = cols\n",
    "\n",
    "#all_data.info()  # full of values"
   ]
  },
  {
   "cell_type": "code",
   "execution_count": 48,
   "id": "greatest-sport",
   "metadata": {},
   "outputs": [],
   "source": [
    "X_train = np.array(all_data[:test_data_len + 1])\n",
    "X_test = np.array(all_data[test_data_len + 1:])\n",
    "\n",
    "X_train, X_valid, y_train, y_valid = train_test_split(X_train, target, train_size=0.8, test_size=0.2, random_state=1)"
   ]
  },
  {
   "cell_type": "markdown",
   "id": "closed-advocate",
   "metadata": {},
   "source": [
    "## Random forest regressor"
   ]
  },
  {
   "cell_type": "code",
   "execution_count": 49,
   "id": "angry-undergraduate",
   "metadata": {},
   "outputs": [
    {
     "name": "stdout",
     "output_type": "stream",
     "text": [
      "292\n"
     ]
    }
   ],
   "source": [
    "print(len(X_valid))"
   ]
  },
  {
   "cell_type": "code",
   "execution_count": 50,
   "id": "divided-lecture",
   "metadata": {},
   "outputs": [
    {
     "data": {
      "text/plain": [
       "RandomForestRegressor(n_estimators=500, random_state=1)"
      ]
     },
     "execution_count": 50,
     "metadata": {},
     "output_type": "execute_result"
    }
   ],
   "source": [
    "model = RandomForestRegressor(n_estimators=500, random_state=1)\n",
    "model.fit(X_train, y_train)"
   ]
  },
  {
   "cell_type": "code",
   "execution_count": 51,
   "id": "legitimate-isolation",
   "metadata": {},
   "outputs": [],
   "source": [
    "predict_vals_randomForest = model.predict(X_valid)"
   ]
  },
  {
   "cell_type": "code",
   "execution_count": 52,
   "id": "limited-issue",
   "metadata": {},
   "outputs": [],
   "source": [
    "def stats(valid, predict):\n",
    "    mae = mean_absolute_error(valid, predict)\n",
    "    mse = mean_squared_error(valid, predict)\n",
    "    rmse = np.sqrt(mse)\n",
    "    cv = rmse / statistics.mean(valid)\n",
    "    \n",
    "    return mae, rmse, cv"
   ]
  },
  {
   "cell_type": "code",
   "execution_count": 53,
   "id": "healthy-substitute",
   "metadata": {},
   "outputs": [],
   "source": [
    "mae_randomFores, rmse_randomFores, cv_randomFores = stats(y_valid, predict_vals_randomForest)"
   ]
  },
  {
   "cell_type": "code",
   "execution_count": 54,
   "id": "aquatic-throw",
   "metadata": {},
   "outputs": [
    {
     "name": "stdout",
     "output_type": "stream",
     "text": [
      "MAE=16218.980554794523, RMSE=26661.366309328714, CV=0.1516810033839054\n"
     ]
    }
   ],
   "source": [
    "print(f\"MAE={mae_randomFores}, RMSE={rmse_randomFores}, CV={cv_randomFores}\")"
   ]
  },
  {
   "cell_type": "markdown",
   "id": "printable-collar",
   "metadata": {},
   "source": [
    "## XGBRegressor"
   ]
  },
  {
   "cell_type": "code",
   "execution_count": 55,
   "id": "useful-calendar",
   "metadata": {},
   "outputs": [
    {
     "name": "stdout",
     "output_type": "stream",
     "text": [
      "[00:29:29] WARNING: C:/Users/Administrator/workspace/xgboost-win64_release_1.4.0/src/objective/regression_obj.cu:171: reg:linear is now deprecated in favor of reg:squarederror.\n"
     ]
    },
    {
     "data": {
      "text/plain": [
       "XGBRegressor(base_score=0.5, booster='gbtree', colsample_bylevel=1,\n",
       "             colsample_bynode=1, colsample_bytree=1, gamma=0, gpu_id=-1,\n",
       "             importance_type='gain', interaction_constraints='',\n",
       "             learning_rate=0.300000012, max_delta_step=0, max_depth=2,\n",
       "             min_child_weight=1, missing=nan, monotone_constraints='()',\n",
       "             n_estimators=500, n_jobs=8, num_parallel_tree=1,\n",
       "             objective='reg:linear', random_state=0, reg_alpha=0, reg_lambda=1,\n",
       "             scale_pos_weight=1, subsample=1, tree_method='exact',\n",
       "             validate_parameters=1, verbosity=None)"
      ]
     },
     "execution_count": 55,
     "metadata": {},
     "output_type": "execute_result"
    }
   ],
   "source": [
    "model_boost = xgb.XGBRegressor(n_estimators=500,max_depth=2,objective='reg:linear')\n",
    "model_boost.fit(X_train, y_train, verbose=True)"
   ]
  },
  {
   "cell_type": "code",
   "execution_count": 56,
   "id": "accepting-above",
   "metadata": {},
   "outputs": [],
   "source": [
    "predict_vals_XGB = model_boost.predict(X_valid)"
   ]
  },
  {
   "cell_type": "code",
   "execution_count": 57,
   "id": "technical-lebanon",
   "metadata": {},
   "outputs": [
    {
     "name": "stdout",
     "output_type": "stream",
     "text": [
      "MAE=15104.989538741438, RMSE=22864.389803816866, CV=0.13007936453692565\n"
     ]
    }
   ],
   "source": [
    "mae_XGB, rmse_XGB, cv_XGB = stats(y_valid, predict_vals_XGB)\n",
    "\n",
    "print(f\"MAE={mae_XGB}, RMSE={rmse_XGB}, CV={cv_XGB}\")"
   ]
  },
  {
   "cell_type": "code",
   "execution_count": 58,
   "id": "intelligent-supplier",
   "metadata": {},
   "outputs": [
    {
     "name": "stdout",
     "output_type": "stream",
     "text": [
      "        Id      SalePrice\n",
      "0     1461  122671.640625\n",
      "1     1462  172823.562500\n",
      "2     1463  191916.156250\n",
      "3     1464  199003.906250\n",
      "4     1465  177902.171875\n",
      "...    ...            ...\n",
      "1454  2915   76412.367188\n",
      "1455  2916   85275.015625\n",
      "1456  2917  169122.000000\n",
      "1457  2918  115141.734375\n",
      "1458  2919  198408.562500\n",
      "\n",
      "[1459 rows x 2 columns]\n"
     ]
    },
    {
     "name": "stderr",
     "output_type": "stream",
     "text": [
      "C:\\Users\\Vlad\\AppData\\Roaming\\Python\\Python38\\site-packages\\xgboost\\data.py:112: UserWarning: Use subset (sliced data) of np.ndarray is not recommended because it will generate extra copies and increase memory consumption\n",
      "  warnings.warn(\n"
     ]
    }
   ],
   "source": [
    "preds =  model_boost.predict(X_test)\n",
    "\n",
    "sub = pd.DataFrame()\n",
    "sub['Id'] = test_id\n",
    "sub['SalePrice'] = preds\n",
    "sub.to_csv('submission.csv',index=False)\n",
    "print(sub)"
   ]
  },
  {
   "cell_type": "raw",
   "id": "professional-quebec",
   "metadata": {},
   "source": []
  }
 ],
 "metadata": {
  "kernelspec": {
   "display_name": "Python 3",
   "language": "python",
   "name": "python3"
  },
  "language_info": {
   "codemirror_mode": {
    "name": "ipython",
    "version": 3
   },
   "file_extension": ".py",
   "mimetype": "text/x-python",
   "name": "python",
   "nbconvert_exporter": "python",
   "pygments_lexer": "ipython3",
   "version": "3.8.5"
  }
 },
 "nbformat": 4,
 "nbformat_minor": 5
}
